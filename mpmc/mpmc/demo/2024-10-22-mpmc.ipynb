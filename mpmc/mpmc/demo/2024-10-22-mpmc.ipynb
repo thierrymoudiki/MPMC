{
  "cells": [
    {
      "cell_type": "markdown",
      "metadata": {},
      "source": [
        "<a target=\"_blank\" href=\"https://colab.research.google.com/github/thierrymoudiki/MPMC/blob/main/mpmc/mpmc/demo/2024-10-22-mpmc.ipynb\">\n",
        "  <img src=\"https://colab.research.google.com/assets/colab-badge.svg\" alt=\"Open In Colab\"/>\n",
        "</a>"
      ]
    },
    {
      "cell_type": "code",
      "execution_count": null,
      "metadata": {
        "id": "FkD4lynYRv5N"
      },
      "outputs": [],
      "source": [
        "!pip install git+https://github.com/thierrymoudiki/MPMC.git@main#subdirectory=mpmc --verbose --verbose --verbose --verbose --upgrade --no-cache-dir"
      ]
    },
    {
      "cell_type": "code",
      "execution_count": null,
      "metadata": {
        "colab": {
          "base_uri": "https://localhost:8080/"
        },
        "id": "42CczzUOXHRy",
        "outputId": "0750a624-a9af-4a65-d66d-e926eb50870e"
      },
      "outputs": [],
      "source": [
        "from mpmc import rmpmc\n",
        "\n",
        "print(rmpmc(nsamples=10, dim=2, epochs=100))"
      ]
    }
  ],
  "metadata": {
    "colab": {
      "provenance": []
    },
    "kernelspec": {
      "display_name": "Python 3",
      "name": "python3"
    },
    "language_info": {
      "name": "python"
    }
  },
  "nbformat": 4,
  "nbformat_minor": 0
}
